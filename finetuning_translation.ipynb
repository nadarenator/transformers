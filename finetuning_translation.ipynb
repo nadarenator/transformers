{
 "cells": [
  {
   "cell_type": "code",
   "execution_count": 1,
   "metadata": {},
   "outputs": [
    {
     "name": "stderr",
     "output_type": "stream",
     "text": [
      "c:\\Users\\91959\\Desktop\\Personal\\projects\\transformers\\venv\\Lib\\site-packages\\tqdm\\auto.py:21: TqdmWarning: IProgress not found. Please update jupyter and ipywidgets. See https://ipywidgets.readthedocs.io/en/stable/user_install.html\n",
      "  from .autonotebook import tqdm as notebook_tqdm\n"
     ]
    }
   ],
   "source": [
    "from datasets import load_dataset, load_metric   \n",
    "from transformers import AutoTokenizer, AutoModelForSeq2SeqLM, DataCollatorForSeq2Seq, Seq2SeqTrainingArguments, Seq2SeqTrainer, pipeline\n",
    "import matplotlib.pyplot as plt\n",
    "import torch\n",
    "import numpy as np"
   ]
  },
  {
   "cell_type": "code",
   "execution_count": 2,
   "metadata": {},
   "outputs": [],
   "source": [
    "# https://opus.nlpl.eu/KDE4.php\n",
    "data = load_dataset(path=\"Helsinki-NLP/kde4\", lang1=\"en\", lang2=\"hi\", trust_remote_code=True)"
   ]
  },
  {
   "cell_type": "code",
   "execution_count": 3,
   "metadata": {},
   "outputs": [
    {
     "data": {
      "text/plain": [
       "DatasetDict({\n",
       "    train: Dataset({\n",
       "        features: ['id', 'translation'],\n",
       "        num_rows: 97227\n",
       "    })\n",
       "})"
      ]
     },
     "execution_count": 3,
     "metadata": {},
     "output_type": "execute_result"
    }
   ],
   "source": [
    "data"
   ]
  },
  {
   "cell_type": "code",
   "execution_count": 4,
   "metadata": {},
   "outputs": [],
   "source": [
    "small = data[\"train\"].shuffle(seed=42).select(range(10000))"
   ]
  },
  {
   "cell_type": "code",
   "execution_count": 5,
   "metadata": {},
   "outputs": [
    {
     "data": {
      "text/plain": [
       "Dataset({\n",
       "    features: ['id', 'translation'],\n",
       "    num_rows: 10000\n",
       "})"
      ]
     },
     "execution_count": 5,
     "metadata": {},
     "output_type": "execute_result"
    }
   ],
   "source": [
    "small"
   ]
  },
  {
   "cell_type": "code",
   "execution_count": 6,
   "metadata": {},
   "outputs": [],
   "source": [
    "split = small.train_test_split(seed=42)"
   ]
  },
  {
   "cell_type": "code",
   "execution_count": 7,
   "metadata": {},
   "outputs": [
    {
     "data": {
      "text/plain": [
       "DatasetDict({\n",
       "    train: Dataset({\n",
       "        features: ['id', 'translation'],\n",
       "        num_rows: 7500\n",
       "    })\n",
       "    test: Dataset({\n",
       "        features: ['id', 'translation'],\n",
       "        num_rows: 2500\n",
       "    })\n",
       "})"
      ]
     },
     "execution_count": 7,
     "metadata": {},
     "output_type": "execute_result"
    }
   ],
   "source": [
    "split"
   ]
  },
  {
   "cell_type": "code",
   "execution_count": 8,
   "metadata": {},
   "outputs": [
    {
     "data": {
      "text/plain": [
       "{'id': '62116',\n",
       " 'translation': {'en': 'Finished downloads', 'hi': 'संपन्न डाउनलोड्स'}}"
      ]
     },
     "execution_count": 8,
     "metadata": {},
     "output_type": "execute_result"
    }
   ],
   "source": [
    "split[\"train\"][0]"
   ]
  },
  {
   "cell_type": "code",
   "execution_count": 9,
   "metadata": {},
   "outputs": [],
   "source": [
    "checkpoint = \"Helsinki-NLP/opus-mt-en-hi\"\n",
    "tokenizer = AutoTokenizer.from_pretrained(pretrained_model_name_or_path=checkpoint)"
   ]
  },
  {
   "cell_type": "code",
   "execution_count": 10,
   "metadata": {},
   "outputs": [
    {
     "data": {
      "text/plain": [
       "('Please enter a float value between %1 and %2',\n",
       " 'कृपया एक फ्लोट मूल्य भरें% 1 तथा% 2 के बीच')"
      ]
     },
     "execution_count": 10,
     "metadata": {},
     "output_type": "execute_result"
    }
   ],
   "source": [
    "en = split[\"train\"][7]['translation']['en']\n",
    "hi = split[\"train\"][7]['translation']['hi']\n",
    "en, hi"
   ]
  },
  {
   "cell_type": "code",
   "execution_count": 11,
   "metadata": {},
   "outputs": [
    {
     "data": {
      "text/plain": [
       "{'input_ids': [711, 1163, 19, 17272, 1147, 576, 833, 10, 3670, 0], 'attention_mask': [1, 1, 1, 1, 1, 1, 1, 1, 1, 1]}"
      ]
     },
     "execution_count": 11,
     "metadata": {},
     "output_type": "execute_result"
    }
   ],
   "source": [
    "inputs = tokenizer(text=en)\n",
    "inputs"
   ]
  },
  {
   "cell_type": "code",
   "execution_count": 12,
   "metadata": {},
   "outputs": [
    {
     "data": {
      "text/plain": [
       "{'input_ids': [681, 38, 21087, 2238, 3067, 785, 180, 1231, 785, 332, 6, 484, 0], 'attention_mask': [1, 1, 1, 1, 1, 1, 1, 1, 1, 1, 1, 1, 1]}"
      ]
     },
     "execution_count": 12,
     "metadata": {},
     "output_type": "execute_result"
    }
   ],
   "source": [
    "#tokenizing the target sentence\n",
    "targets = tokenizer(text_target = hi)\n",
    "targets"
   ]
  },
  {
   "cell_type": "code",
   "execution_count": 13,
   "metadata": {},
   "outputs": [
    {
     "data": {
      "text/plain": [
       "['▁कृपया',\n",
       " '▁एक',\n",
       " '▁फ्लोट',\n",
       " '▁मूल्य',\n",
       " '▁भरें',\n",
       " '%',\n",
       " '▁1',\n",
       " '▁तथा',\n",
       " '%',\n",
       " '▁2',\n",
       " '▁के',\n",
       " '▁बीच',\n",
       " '</s>']"
      ]
     },
     "execution_count": 13,
     "metadata": {},
     "output_type": "execute_result"
    }
   ],
   "source": [
    "#each sentence ends with a <\\s> tag\n",
    "tokenizer.convert_ids_to_tokens(ids=targets[\"input_ids\"])"
   ]
  },
  {
   "cell_type": "code",
   "execution_count": 14,
   "metadata": {},
   "outputs": [
    {
     "data": {
      "text/plain": [
       "{'input_ids': [44, 1, 2703, 1321, 260, 44, 1042, 716, 44, 3663, 1185, 800, 917, 2136, 44, 1056, 3561, 800, 1185, 1321, 44, 7817, 428, 174, 549, 785, 180, 44, 1, 260, 785, 332, 44, 906, 44, 1400, 130, 4228, 0], 'attention_mask': [1, 1, 1, 1, 1, 1, 1, 1, 1, 1, 1, 1, 1, 1, 1, 1, 1, 1, 1, 1, 1, 1, 1, 1, 1, 1, 1, 1, 1, 1, 1, 1, 1, 1, 1, 1, 1, 1, 1]}"
      ]
     },
     "execution_count": 14,
     "metadata": {},
     "output_type": "execute_result"
    }
   ],
   "source": [
    "#using tokenizer on targets incorrectly\n",
    "wrong_targets = tokenizer(text=hi)\n",
    "wrong_targets"
   ]
  },
  {
   "cell_type": "code",
   "execution_count": 15,
   "metadata": {},
   "outputs": [
    {
     "data": {
      "text/plain": [
       "['▁',\n",
       " '<unk>',\n",
       " 'प',\n",
       " 'य',\n",
       " 'ा',\n",
       " '▁',\n",
       " 'ए',\n",
       " 'क',\n",
       " '▁',\n",
       " 'फ',\n",
       " '्',\n",
       " 'ल',\n",
       " 'ो',\n",
       " 'ट',\n",
       " '▁',\n",
       " 'म',\n",
       " 'ू',\n",
       " 'ल',\n",
       " '्',\n",
       " 'य',\n",
       " '▁',\n",
       " 'भ',\n",
       " 'र',\n",
       " 'े',\n",
       " 'ं',\n",
       " '%',\n",
       " '▁1',\n",
       " '▁',\n",
       " '<unk>',\n",
       " 'ा',\n",
       " '%',\n",
       " '▁2',\n",
       " '▁',\n",
       " 'के',\n",
       " '▁',\n",
       " 'ब',\n",
       " 'ी',\n",
       " 'च',\n",
       " '</s>']"
      ]
     },
     "execution_count": 15,
     "metadata": {},
     "output_type": "execute_result"
    }
   ],
   "source": [
    "# english tokenizer splits hindi words at weird points\n",
    "tokenizer.convert_ids_to_tokens(ids=wrong_targets['input_ids'])"
   ]
  },
  {
   "cell_type": "code",
   "execution_count": 16,
   "metadata": {},
   "outputs": [
    {
     "data": {
      "image/png": "[encoded data removed]",
      "text/plain": [
       "<Figure size 640x480 with 1 Axes>"
      ]
     },
     "metadata": {},
     "output_type": "display_data"
    }
   ],
   "source": [
    "#plotting histogram to determine truncation length\n",
    "train = split[\"train\"][\"translation\"]\n",
    "input_lengths = [len(element['en']) for element in train]\n",
    "\n",
    "plt.hist(x=input_lengths, bins=50)\n",
    "plt.show()"
   ]
  },
  {
   "cell_type": "code",
   "execution_count": 17,
   "metadata": {},
   "outputs": [
    {
     "data": {
      "image/png": "[encoded data removed]",
      "text/plain": [
       "<Figure size 640x480 with 1 Axes>"
      ]
     },
     "metadata": {},
     "output_type": "display_data"
    }
   ],
   "source": [
    "# histogram for target lengths\n",
    "target_lengths = [len(element['hi']) for element in train]\n",
    "\n",
    "plt.hist(x=target_lengths, bins=50)\n",
    "plt.show()"
   ]
  },
  {
   "cell_type": "code",
   "execution_count": 18,
   "metadata": {},
   "outputs": [],
   "source": [
    "max_input_length = 128\n",
    "max_target_length = 128\n",
    "\n",
    "def tokenize_fn(batch):\n",
    "    inputs = [x['en'] for x in batch['translation']]\n",
    "    targets = [x['hi'] for x in batch['translation']]\n",
    "    tokenized_inputs = tokenizer(text=inputs, max_length=max_input_length, truncation=True)\n",
    "    tokenized_targets = tokenizer(text_target=targets, max_length=max_target_length, truncation=True)\n",
    "    tokenized_inputs['labels'] = tokenized_targets['input_ids']\n",
    "    return tokenized_inputs"
   ]
  },
  {
   "cell_type": "code",
   "execution_count": 19,
   "metadata": {},
   "outputs": [
    {
     "name": "stderr",
     "output_type": "stream",
     "text": [
      "Map: 100%|██████████| 7500/7500 [00:00<00:00, 11372.98 examples/s]\n",
      "Map: 100%|██████████| 2500/2500 [00:00<00:00, 11049.88 examples/s]\n"
     ]
    }
   ],
   "source": [
    "tokenized_datasets = split.map(\n",
    "    function=tokenize_fn,\n",
    "    batched=True,\n",
    "    remove_columns=split['train'].column_names\n",
    ")"
   ]
  },
  {
   "cell_type": "code",
   "execution_count": 20,
   "metadata": {},
   "outputs": [
    {
     "data": {
      "text/plain": [
       "DatasetDict({\n",
       "    train: Dataset({\n",
       "        features: ['input_ids', 'attention_mask', 'labels'],\n",
       "        num_rows: 7500\n",
       "    })\n",
       "    test: Dataset({\n",
       "        features: ['input_ids', 'attention_mask', 'labels'],\n",
       "        num_rows: 2500\n",
       "    })\n",
       "})"
      ]
     },
     "execution_count": 20,
     "metadata": {},
     "output_type": "execute_result"
    }
   ],
   "source": [
    "tokenized_datasets"
   ]
  },
  {
   "cell_type": "code",
   "execution_count": 21,
   "metadata": {},
   "outputs": [
    {
     "data": {
      "text/plain": [
       "device(type='cuda')"
      ]
     },
     "execution_count": 21,
     "metadata": {},
     "output_type": "execute_result"
    }
   ],
   "source": [
    "device = torch.device(\"cuda\" if torch.cuda.is_available() else \"cpu\")\n",
    "device"
   ]
  },
  {
   "cell_type": "code",
   "execution_count": 22,
   "metadata": {},
   "outputs": [],
   "source": [
    "model = AutoModelForSeq2SeqLM.from_pretrained(pretrained_model_name_or_path=checkpoint)"
   ]
  },
  {
   "cell_type": "code",
   "execution_count": 23,
   "metadata": {},
   "outputs": [],
   "source": [
    "data_collator = DataCollatorForSeq2Seq(tokenizer=tokenizer, model=model)"
   ]
  },
  {
   "cell_type": "code",
   "execution_count": 24,
   "metadata": {},
   "outputs": [
    {
     "data": {
      "text/plain": [
       "[{'input_ids': [21372, 11909, 0],\n",
       "  'attention_mask': [1, 1, 1],\n",
       "  'labels': [13049, 13955, 0]},\n",
       " {'input_ids': [30139, 3771, 26309, 1328, 1328, 0],\n",
       "  'attention_mask': [1, 1, 1, 1, 1, 1],\n",
       "  'labels': [6, 69, 24825, 0]}]"
      ]
     },
     "execution_count": 24,
     "metadata": {},
     "output_type": "execute_result"
    }
   ],
   "source": [
    "[tokenized_datasets['train'][i] for i in range(2)]"
   ]
  },
  {
   "cell_type": "code",
   "execution_count": 25,
   "metadata": {},
   "outputs": [
    {
     "data": {
      "text/plain": [
       "dict_keys(['input_ids', 'attention_mask', 'labels', 'decoder_input_ids'])"
      ]
     },
     "execution_count": 25,
     "metadata": {},
     "output_type": "execute_result"
    }
   ],
   "source": [
    "batch = data_collator(features=[tokenized_datasets['train'][i] for i in range(5)])\n",
    "batch.keys()"
   ]
  },
  {
   "cell_type": "code",
   "execution_count": 26,
   "metadata": {},
   "outputs": [
    {
     "data": {
      "text/plain": [
       "tensor([[13049, 13955,     0,  -100,  -100,  -100],\n",
       "        [    6,    69, 24825,     0,  -100,  -100],\n",
       "        [ 3303,    18,   495,   179,   679,     0],\n",
       "        [ 1212,  1434,     0,  -100,  -100,  -100],\n",
       "        [26424,     0,  -100,  -100,  -100,  -100]])"
      ]
     },
     "execution_count": 26,
     "metadata": {},
     "output_type": "execute_result"
    }
   ],
   "source": [
    "# -100 for ignoring tokens\n",
    "batch['labels']"
   ]
  },
  {
   "cell_type": "code",
   "execution_count": 27,
   "metadata": {},
   "outputs": [
    {
     "data": {
      "text/plain": [
       "tensor([[61949, 13049, 13955,     0, 61949, 61949],\n",
       "        [61949,     6,    69, 24825,     0, 61949],\n",
       "        [61949,  3303,    18,   495,   179,   679],\n",
       "        [61949,  1212,  1434,     0, 61949, 61949],\n",
       "        [61949, 26424,     0, 61949, 61949, 61949]])"
      ]
     },
     "execution_count": 27,
     "metadata": {},
     "output_type": "execute_result"
    }
   ],
   "source": [
    "#shifted version of the targets. Padded with the 61949 tokens in beginning and in place of -100\n",
    "batch['decoder_input_ids']"
   ]
  },
  {
   "cell_type": "code",
   "execution_count": 28,
   "metadata": {},
   "outputs": [
    {
     "data": {
      "text/plain": [
       "['<pad>', '▁के', '-', '▁महजोंग', '</s>', '<pad>']"
      ]
     },
     "execution_count": 28,
     "metadata": {},
     "output_type": "execute_result"
    }
   ],
   "source": [
    "# both input and target vocabs share one ID space and hence unique tokens, so the tokenizer can decode both languages.\n",
    "# this also means that there is no hard language boundary for inputs/outputs.\n",
    "tokenizer.convert_ids_to_tokens(ids=batch['decoder_input_ids'][1])"
   ]
  },
  {
   "cell_type": "code",
   "execution_count": 29,
   "metadata": {},
   "outputs": [
    {
     "data": {
      "text/plain": [
       "['▁के', '-', '▁महजोंग', '</s>', '<unk>', '<unk>']"
      ]
     },
     "execution_count": 29,
     "metadata": {},
     "output_type": "execute_result"
    }
   ],
   "source": [
    "tokenizer.convert_ids_to_tokens(ids=batch['labels'][1])"
   ]
  },
  {
   "cell_type": "code",
   "execution_count": 30,
   "metadata": {},
   "outputs": [
    {
     "data": {
      "text/plain": [
       "{'id': '50211', 'translation': {'en': 'KMahjongg', 'hi': 'के- महजोंग'}}"
      ]
     },
     "execution_count": 30,
     "metadata": {},
     "output_type": "execute_result"
    }
   ],
   "source": [
    "split['train'][1]"
   ]
  },
  {
   "cell_type": "code",
   "execution_count": 31,
   "metadata": {},
   "outputs": [
    {
     "name": "stderr",
     "output_type": "stream",
     "text": [
      "C:\\Users\\91959\\AppData\\Local\\Temp\\ipykernel_4804\\2210019469.py:1: FutureWarning: load_metric is deprecated and will be removed in the next major version of datasets. Use 'evaluate.load' instead, from the new library 🤗 Evaluate: https://huggingface.co/docs/evaluate\n",
      "  bleu_metric = load_metric(path=\"sacrebleu\", trust_remote_code=True)\n"
     ]
    }
   ],
   "source": [
    "bleu_metric = load_metric(path=\"sacrebleu\", trust_remote_code=True)\n",
    "bert_metric = load_metric(path=\"bertscore\", trust_remote_code=True)"
   ]
  },
  {
   "cell_type": "code",
   "execution_count": 32,
   "metadata": {},
   "outputs": [
    {
     "data": {
      "text/plain": [
       "{'score': 100.00000000000004,\n",
       " 'counts': [6, 5, 4, 3],\n",
       " 'totals': [6, 5, 4, 3],\n",
       " 'precisions': [100.0, 100.0, 100.0, 100.0],\n",
       " 'bp': 1.0,\n",
       " 'sys_len': 6,\n",
       " 'ref_len': 6}"
      ]
     },
     "execution_count": 32,
     "metadata": {},
     "output_type": "execute_result"
    }
   ],
   "source": [
    "s1 = \"The cops chased after the thieves\"\n",
    "s2 = \"The police ran behind the theives\"\n",
    "bleu_metric.compute(predictions=[s1], references=[[s1]])"
   ]
  },
  {
   "cell_type": "code",
   "execution_count": 33,
   "metadata": {},
   "outputs": [
    {
     "data": {
      "text/plain": [
       "{'score': 9.652434877402245,\n",
       " 'counts': [2, 0, 0, 0],\n",
       " 'totals': [6, 5, 4, 3],\n",
       " 'precisions': [33.333333333333336, 10.0, 6.25, 4.166666666666667],\n",
       " 'bp': 1.0,\n",
       " 'sys_len': 6,\n",
       " 'ref_len': 6}"
      ]
     },
     "execution_count": 33,
     "metadata": {},
     "output_type": "execute_result"
    }
   ],
   "source": [
    "#bleu cannot handle synonyms, which is why multiple references should be passed to cover more words\n",
    "bleu_metric.compute(predictions=[s1], references=[[s2]])"
   ]
  },
  {
   "cell_type": "code",
   "execution_count": 34,
   "metadata": {},
   "outputs": [
    {
     "name": "stderr",
     "output_type": "stream",
     "text": [
      "Some weights of RobertaModel were not initialized from the model checkpoint at roberta-large and are newly initialized: ['roberta.pooler.dense.bias', 'roberta.pooler.dense.weight']\n",
      "You should probably TRAIN this model on a down-stream task to be able to use it for predictions and inference.\n"
     ]
    },
    {
     "data": {
      "text/plain": [
       "{'precision': [0.9283140897750854],\n",
       " 'recall': [0.8716788291931152],\n",
       " 'f1': [0.8991054892539978],\n",
       " 'hashcode': 'roberta-large_L17_no-idf_version=0.3.12(hug_trans=4.41.2)'}"
      ]
     },
     "execution_count": 34,
     "metadata": {},
     "output_type": "execute_result"
    }
   ],
   "source": [
    "#bert handles synonyms well\n",
    "bert_metric.compute(predictions=[s1], references=[[s2]], lang='en')"
   ]
  },
  {
   "cell_type": "code",
   "execution_count": 35,
   "metadata": {},
   "outputs": [
    {
     "data": {
      "text/plain": [
       "{'score': 100.00000000000004,\n",
       " 'counts': [6, 5, 4, 3],\n",
       " 'totals': [6, 5, 4, 3],\n",
       " 'precisions': [100.0, 100.0, 100.0, 100.0],\n",
       " 'bp': 1.0,\n",
       " 'sys_len': 6,\n",
       " 'ref_len': 6}"
      ]
     },
     "execution_count": 35,
     "metadata": {},
     "output_type": "execute_result"
    }
   ],
   "source": [
    "s1 = \"पुलिस ने चोरों का पीछा किया\"\n",
    "s2 = \"पुलिस चोरों के पीछे दौड़ पड़ी\"\n",
    "bleu_metric.compute(predictions=[s1], references=[[s1]])"
   ]
  },
  {
   "cell_type": "code",
   "execution_count": 36,
   "metadata": {},
   "outputs": [
    {
     "data": {
      "text/plain": [
       "{'score': 9.652434877402245,\n",
       " 'counts': [2, 0, 0, 0],\n",
       " 'totals': [6, 5, 4, 3],\n",
       " 'precisions': [33.333333333333336, 10.0, 6.25, 4.166666666666667],\n",
       " 'bp': 1.0,\n",
       " 'sys_len': 6,\n",
       " 'ref_len': 6}"
      ]
     },
     "execution_count": 36,
     "metadata": {},
     "output_type": "execute_result"
    }
   ],
   "source": [
    "bleu_metric.compute(predictions=[s1], references=[[s2]])"
   ]
  },
  {
   "cell_type": "code",
   "execution_count": 37,
   "metadata": {},
   "outputs": [
    {
     "name": "stderr",
     "output_type": "stream",
     "text": [
      "c:\\Users\\91959\\Desktop\\Personal\\projects\\transformers\\venv\\Lib\\site-packages\\transformers\\models\\bert\\modeling_bert.py:435: UserWarning: 1Torch was not compiled with flash attention. (Triggered internally at ..\\aten\\src\\ATen\\native\\transformers\\cuda\\sdp_utils.cpp:263.)\n",
      "  attn_output = torch.nn.functional.scaled_dot_product_attention(\n"
     ]
    },
    {
     "data": {
      "text/plain": [
       "{'precision': [0.8452427983283997],\n",
       " 'recall': [0.8211797475814819],\n",
       " 'f1': [0.8330374956130981],\n",
       " 'hashcode': 'bert-base-multilingual-cased_L9_no-idf_version=0.3.12(hug_trans=4.41.2)'}"
      ]
     },
     "execution_count": 37,
     "metadata": {},
     "output_type": "execute_result"
    }
   ],
   "source": [
    "#bert handles synonyms well\n",
    "bert_metric.compute(predictions=[s1], references=[[s2]], lang='hi')"
   ]
  },
  {
   "cell_type": "code",
   "execution_count": 38,
   "metadata": {},
   "outputs": [],
   "source": [
    "\"\"\"\n",
    "model doesnt output logits like in other tasks, but predictions(token IDs).\n",
    "this is because its difficult to generate tokens from logits using argmax; models use Beam Search.\n",
    "model outputs predictions so we do not need to call a beam search function ourselves.\n",
    "\"\"\"\n",
    "def compute_metrics(predictions_and_labels):\n",
    "    predictions, labels = predictions_and_labels\n",
    "    decoded_predictions = tokenizer.batch_decode(sequences=predictions, skip_special_tokens=True)\n",
    "    labels = np.where(labels != -100, labels, tokenizer.pad_token_id) #convert -100 tokens to pad tokens\n",
    "    decoded_labels = tokenizer.batch_decode(sequences=labels, skip_special_tokens=True)\n",
    "    #removing extra whitespace:\n",
    "    decoded_predictions = [prediction.strip() for prediction in decoded_predictions]\n",
    "    decoded_labels = [[label.strip()] for label in decoded_labels]\n",
    "\n",
    "    bleu = bleu_metric.compute(predictions=decoded_predictions, references=decoded_labels)\n",
    "    bert = bert_metric.compute(predictions=decoded_predictions, references=decoded_labels, lang='hi')\n",
    "    return {\"bleu\": bleu[\"score\"], \"bert\": np.mean(bert['f1'])}"
   ]
  },
  {
   "cell_type": "code",
   "execution_count": 39,
   "metadata": {},
   "outputs": [],
   "source": [
    "training_arguments = Seq2SeqTrainingArguments(\n",
    "    output_dir=\"finetuned_translation\",\n",
    "    eval_strategy=\"no\", #too time consuming, so evaluating before and after training only\n",
    "    save_strategy=\"epoch\",\n",
    "    learning_rate=2e-5,\n",
    "    per_device_train_batch_size=32,\n",
    "    per_device_eval_batch_size=64,\n",
    "    weight_decay=0.01,\n",
    "    save_total_limit=3,\n",
    "    num_train_epochs=3,\n",
    "    predict_with_generate=True,\n",
    "    fp16=True\n",
    ")"
   ]
  },
  {
   "cell_type": "code",
   "execution_count": 40,
   "metadata": {},
   "outputs": [],
   "source": [
    "trainer = Seq2SeqTrainer(\n",
    "    model=model,\n",
    "    args=training_arguments,\n",
    "    train_dataset=tokenized_datasets[\"train\"],\n",
    "    eval_dataset=tokenized_datasets[\"test\"],\n",
    "    data_collator=data_collator,\n",
    "    tokenizer=tokenizer,\n",
    "    compute_metrics=compute_metrics\n",
    ")"
   ]
  },
  {
   "cell_type": "code",
   "execution_count": 41,
   "metadata": {},
   "outputs": [
    {
     "name": "stderr",
     "output_type": "stream",
     "text": [
      "100%|██████████| 40/40 [02:02<00:00,  3.07s/it]\n"
     ]
    },
    {
     "data": {
      "text/plain": [
       "{'eval_loss': 2.135103225708008,\n",
       " 'eval_bleu': 57.10290878590825,\n",
       " 'eval_bert': 0.8869294938325882,\n",
       " 'eval_runtime': 125.33,\n",
       " 'eval_samples_per_second': 19.947,\n",
       " 'eval_steps_per_second': 0.319}"
      ]
     },
     "execution_count": 41,
     "metadata": {},
     "output_type": "execute_result"
    }
   ],
   "source": [
    "#eval before training:\n",
    "trainer.evaluate(max_length=max_target_length)"
   ]
  },
  {
   "cell_type": "code",
   "execution_count": 42,
   "metadata": {},
   "outputs": [
    {
     "name": "stderr",
     "output_type": "stream",
     "text": [
      " 33%|███▎      | 235/705 [00:39<01:23,  5.63it/s]Some non-default generation parameters are set in the model config. These should go into a GenerationConfig file (https://huggingface.co/docs/transformers/generation_strategies#save-a-custom-decoding-strategy-with-your-model) instead. This warning will be raised to an exception in v4.41.\n",
      "Non-default generation parameters: {'max_length': 512, 'num_beams': 4, 'bad_words_ids': [[61949]], 'forced_eos_token_id': 0}\n",
      " 67%|██████▋   | 470/705 [01:21<00:40,  5.75it/s]Some non-default generation parameters are set in the model config. These should go into a GenerationConfig file (https://huggingface.co/docs/transformers/generation_strategies#save-a-custom-decoding-strategy-with-your-model) instead. This warning will be raised to an exception in v4.41.\n",
      "Non-default generation parameters: {'max_length': 512, 'num_beams': 4, 'bad_words_ids': [[61949]], 'forced_eos_token_id': 0}\n",
      " 71%|███████   | 501/705 [01:29<00:33,  6.01it/s]"
     ]
    },
    {
     "name": "stdout",
     "output_type": "stream",
     "text": [
      "{'loss': 1.442, 'grad_norm': 4.466684818267822, 'learning_rate': 5.815602836879432e-06, 'epoch': 2.13}\n"
     ]
    },
    {
     "name": "stderr",
     "output_type": "stream",
     "text": [
      "100%|██████████| 705/705 [02:04<00:00,  5.85it/s]Some non-default generation parameters are set in the model config. These should go into a GenerationConfig file (https://huggingface.co/docs/transformers/generation_strategies#save-a-custom-decoding-strategy-with-your-model) instead. This warning will be raised to an exception in v4.41.\n",
      "Non-default generation parameters: {'max_length': 512, 'num_beams': 4, 'bad_words_ids': [[61949]], 'forced_eos_token_id': 0}\n",
      "100%|██████████| 705/705 [02:07<00:00,  5.54it/s]"
     ]
    },
    {
     "name": "stdout",
     "output_type": "stream",
     "text": [
      "{'train_runtime': 127.2306, 'train_samples_per_second': 176.844, 'train_steps_per_second': 5.541, 'train_loss': 1.3724155723625886, 'epoch': 3.0}\n"
     ]
    },
    {
     "name": "stderr",
     "output_type": "stream",
     "text": [
      "\n"
     ]
    },
    {
     "data": {
      "text/plain": [
       "TrainOutput(global_step=705, training_loss=1.3724155723625886, metrics={'train_runtime': 127.2306, 'train_samples_per_second': 176.844, 'train_steps_per_second': 5.541, 'total_flos': 163243932254208.0, 'train_loss': 1.3724155723625886, 'epoch': 3.0})"
      ]
     },
     "execution_count": 42,
     "metadata": {},
     "output_type": "execute_result"
    }
   ],
   "source": [
    "trainer.train()"
   ]
  },
  {
   "cell_type": "code",
   "execution_count": 43,
   "metadata": {},
   "outputs": [
    {
     "name": "stderr",
     "output_type": "stream",
     "text": [
      "100%|██████████| 40/40 [02:13<00:00,  3.33s/it]\n"
     ]
    },
    {
     "data": {
      "text/plain": [
       "{'eval_loss': 1.3120352029800415,\n",
       " 'eval_bleu': 51.41455624583655,\n",
       " 'eval_bert': 0.882423868727684,\n",
       " 'eval_runtime': 135.338,\n",
       " 'eval_samples_per_second': 18.472,\n",
       " 'eval_steps_per_second': 0.296,\n",
       " 'epoch': 3.0}"
      ]
     },
     "execution_count": 43,
     "metadata": {},
     "output_type": "execute_result"
    }
   ],
   "source": [
    "#eval after training:\n",
    "trainer.evaluate(max_length=max_target_length)"
   ]
  },
  {
   "cell_type": "code",
   "execution_count": 44,
   "metadata": {},
   "outputs": [
    {
     "name": "stderr",
     "output_type": "stream",
     "text": [
      "Some non-default generation parameters are set in the model config. These should go into a GenerationConfig file (https://huggingface.co/docs/transformers/generation_strategies#save-a-custom-decoding-strategy-with-your-model) instead. This warning will be raised to an exception in v4.41.\n",
      "Non-default generation parameters: {'max_length': 512, 'num_beams': 4, 'bad_words_ids': [[61949]], 'forced_eos_token_id': 0}\n"
     ]
    }
   ],
   "source": [
    "trainer.save_model(\"translation_saved\")"
   ]
  },
  {
   "cell_type": "code",
   "execution_count": 45,
   "metadata": {},
   "outputs": [],
   "source": [
    "translator = pipeline(task=\"translation\", model='translation_saved', device=torch.device('cuda'))"
   ]
  },
  {
   "cell_type": "code",
   "execution_count": 52,
   "metadata": {},
   "outputs": [
    {
     "data": {
      "text/plain": [
       "[{'translation_text': 'बहुत अच्छा दिन है!'}]"
      ]
     },
     "execution_count": 52,
     "metadata": {},
     "output_type": "execute_result"
    }
   ],
   "source": [
    "translator(\"Have a very good day!\")"
   ]
  }
 ],
 "metadata": {
  "kernelspec": {
   "display_name": "venv",
   "language": "python",
   "name": "python3"
  },
  "language_info": {
   "codemirror_mode": {
    "name": "ipython",
    "version": 3
   },
   "file_extension": ".py",
   "mimetype": "text/x-python",
   "name": "python",
   "nbconvert_exporter": "python",
   "pygments_lexer": "ipython3",
   "version": "3.11.4"
  }
 },
 "nbformat": 4,
 "nbformat_minor": 2
}
